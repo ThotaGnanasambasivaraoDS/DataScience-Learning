{
 "cells": [
  {
   "cell_type": "code",
   "execution_count": null,
   "id": "f34158a6-f292-47ec-939c-fb434bfeb375",
   "metadata": {},
   "outputs": [],
   "source": [
    "\"\"\"\n",
    "Today I have learned some basic concepts of Python for Datascience.\n",
    "        1->What is variable? \n",
    "        2->Rules for naming a  variable.\n",
    "        3->Types of value assigning to a variable.\n",
    "        4->Typecasting.\n",
    "        5->Find the type of variable. Inadditional using of delete keyword.\n",
    "        6->Scope of a variable.\n",
    "        7->Keywords in python.\n",
    "        8->Input and output formats in python.\n",
    "\"\"\""
   ]
  },
  {
   "cell_type": "code",
   "execution_count": 8,
   "id": "5f79fc0c-afd2-408e-97e9-15b6e2842a6f",
   "metadata": {
    "scrolled": true
   },
   "outputs": [
    {
     "name": "stdout",
     "output_type": "stream",
     "text": [
      "Samba\n",
      "21\n",
      "12/08/2004\n",
      "Samba\n",
      "siva\n"
     ]
    },
    {
     "data": {
      "text/plain": [
       "'\\n for =\"job ready\"\\n while=\"Studing Data Science\"\\n print(for)\\n print(while)\\n\\nIf we use then it throw and Syntax Error like this:\\n    for =\"job ready\"\\n        ^\\nSyntaxError: invalid syntax\\n\\n'"
      ]
     },
     "execution_count": 8,
     "metadata": {},
     "output_type": "execute_result"
    }
   ],
   "source": [
    "\"\"\"\n",
    "Interview Q\\A \n",
    "     1) What is variable?\n",
    "     A) variable is letter or a word that used to store the value in programming language, which will be used later during execution.\n",
    "\n",
    "     2)In python does it required to declare the type of data while intializing \n",
    "     A)NO,because the type of variable is decided based on the value assigned(implicit) \n",
    "\n",
    "\"\"\"\n",
    "#create a variable. In python we have some rules to create a variable aslo knows as \"Naming rues\"\n",
    "# Rule-1: The variable must contain only letters{A-Z or a-z} and numbers{0-9} and underscore only(_).\n",
    "# Rule-2: The variable should not start with numbers.\n",
    "# Rule-3: The variable in python are case sensitive.\n",
    "# Rule-3: The variable in python should not use keywords as variable name.\n",
    "\n",
    "#Rule1\n",
    "Myname=\"Samba\"\n",
    "_age=21\n",
    "dob_1= \"12/08/2004\"\n",
    "\n",
    "print(Myname)\n",
    "print(_age)\n",
    "print(dob_1)\n",
    "\n",
    "#Rule2: If we use number at first then it through SyntaxError\n",
    "\n",
    "\"\"\"\n",
    "2_name=\"Samba\"\n",
    "2age=21\n",
    "print(2_name)\n",
    "print(2age)\n",
    "\n",
    "Output wiil be like this \n",
    "        Cell In[4], line 26\n",
    "            2_name=\"Samba\"\n",
    "            ^\n",
    "        SyntaxError: invalid decimal literal\n",
    "\"\"\"\n",
    "#Rule3 : Case sensitive\n",
    "\n",
    "Myname=\"Samba\"\n",
    "myName=\"siva\"\n",
    "print(Myname)\n",
    "print(myName)\n",
    "\n",
    "#Rule4: Uasge of keyword as variabe name\n",
    "'''\n",
    " for =\"job ready\"\n",
    " while=\"Studing Data Science\"\n",
    " print(for)\n",
    " print(while)\n",
    "\n",
    "If we use then it throw and Syntax Error like this:\n",
    "    for =\"job ready\"\n",
    "        ^\n",
    "SyntaxError: invalid syntax\n",
    "\n",
    "'''"
   ]
  },
  {
   "cell_type": "code",
   "execution_count": 13,
   "id": "8295cdcb-73b7-4384-873e-50af6eb44bb4",
   "metadata": {},
   "outputs": [
    {
     "name": "stdout",
     "output_type": "stream",
     "text": [
      "Samba\n",
      "21\n",
      "100.0\n",
      "5\n",
      "Samba\n",
      "100\n",
      "100\n",
      "100\n",
      "10\n",
      "10.5\n",
      "Hello Samba\n"
     ]
    }
   ],
   "source": [
    "#Assigning variable to values\n",
    "'''\n",
    "we have 3 types of assigning variable to value:\n",
    "    1-> Basic assign \n",
    "    2-> Dynamic Typing\n",
    "    3-> Multiple assign \n",
    "        3.1->Assigning for same value.\n",
    "        3.2-> Assigning for different values.\n",
    "'''\n",
    "\n",
    "#1-> Basic assign: It is also known as general assigning of variable\n",
    "\n",
    "T=\"Samba\"\n",
    "G= 21\n",
    "S= 100.0\n",
    "print(T)\n",
    "print(G)\n",
    "print(S)\n",
    "\n",
    "#2-> Dynamic typing: It means the values assigned to any variable may be changed during execution \n",
    "#                    In-simple assining different values for same variable\n",
    "\n",
    "name=5\n",
    "print(name)\n",
    "name=\"Samba\"\n",
    "print(name)\n",
    "'''\n",
    "o/p:\n",
    "    5\n",
    "    Samba\n",
    "Now in the output cell we can see that the value 5 is printed and samba is also printed but the variable called name is assigned to string value(Samba)\n",
    "if we print the name again it will print samba only not 5\n",
    "'''\n",
    "\n",
    "#Multiple Assign for single value\n",
    "A=B=C=100\n",
    "print(A)\n",
    "print(B)\n",
    "print(C)\n",
    "\"\"\"\n",
    "o/p:\n",
    "    100\n",
    "    100\n",
    "    100\n",
    "\"\"\"\n",
    "#multiple assign for multiple variable in single line \n",
    "'''\n",
    "AS it will print their assigned values, so by this we came to know that we can assign a different values for different variables in single line \n",
    "'''\n",
    "A,B,C=10,10.5,\"Hello Samba\"\n",
    "print(A)\n",
    "print(B)\n",
    "print(C)\n"
   ]
  },
  {
   "cell_type": "code",
   "execution_count": 20,
   "id": "b7d0131c-f1ed-4fa2-8643-3c589611f90b",
   "metadata": {},
   "outputs": [
    {
     "name": "stdout",
     "output_type": "stream",
     "text": [
      "Before converting:  21 <class 'int'>\n",
      "After converting to string  21 <class 'str'>\n"
     ]
    }
   ],
   "source": [
    "#TypeCasting : It is known for converting a variable from one data-type to another required or compatable data-type\n",
    "#Type of a variable: It helps to find out that the assigned variable belongs to which data type. By using type() method  \n",
    "\n",
    "#1-> Converting to integer by using int():\n",
    "age=\"21\"\n",
    "ageA=int(age)\n",
    "# print(\"Before converting \",age,  type(age))\n",
    "# print(\"After converting to integer: \",ageA, type(ageA))\n",
    "\n",
    "'''\n",
    "                            o/p:\n",
    "                                Before converting  79 <class 'str'>\n",
    "                                After converting to integer:  79 <class 'int'>\n",
    "'''\n",
    "\n",
    "#2-> Convering to Float by using float():\n",
    "Marks=\"79.04\"\n",
    "mark=float(Marks)\n",
    "# print(\"Before converting \",Marks,  type(Marks))\n",
    "# print(\"After converting to Float: \",mark, type(mark))\n",
    "\n",
    "'''\n",
    "                            o/p:\n",
    "                                Before converting  79.04 <class 'str'>\n",
    "                                After converting to Float:  79.04 <class 'float'>\n",
    "'''\n",
    "\n",
    "#3-> Converting to the String by using str():\n",
    "age=21\n",
    "st_age=str(age)\n",
    "print(\"Before converting: \",age,type(age))\n",
    "print(\"After converting to string \", st_age, type(st_age))\n",
    "\n",
    "'''\n",
    "o/p:\n",
    "    Before converting:  21 <class 'int'>\n",
    "    After converting to string  21 <class 'str'>\n",
    "'''"
   ]
  },
  {
   "cell_type": "code",
   "execution_count": 23,
   "id": "e311d9be-9160-4e91-a141-b7e8230e5d2d",
   "metadata": {},
   "outputs": [
    {
     "name": "stdout",
     "output_type": "stream",
     "text": [
      "Samba\n"
     ]
    }
   ],
   "source": [
    "#Using the delete keyword to delete the variable\n",
    "x =\"Samba\"\n",
    "print(x)\n",
    "del x\n",
    "#Incase if we print the deleted variable then nameerroe will be raised  \n",
    "# print(x)\n",
    "#NameError: name 'x' is not defined (Like this)\n"
   ]
  },
  {
   "cell_type": "code",
   "execution_count": 30,
   "id": "152cbd1e-cdc0-4cad-a303-8852c1a38db3",
   "metadata": {},
   "outputs": [
    {
     "name": "stdout",
     "output_type": "stream",
     "text": [
      "I am local\n",
      "I am local variable but accessed from a grobal scope variable \n",
      "I am local variable but accessed from a grobal scope variable \n"
     ]
    }
   ],
   "source": [
    "# Scope of the variable: In simple it means how a variable can accessed in the entire program \n",
    "'''\n",
    "Scope of the variable has classified into 2 scopes:\n",
    "    1-> Local scope.\n",
    "    2-> Gobal scope.\n",
    "'''\n",
    "\n",
    "# 1-> local scope : The scope of the variable is availabe only inside the function or a paticular block that have been intialized.\n",
    "def my_function():\n",
    "    local_variable = \"I am local\"  # This is a local variable\n",
    "    print(local_variable)\n",
    "\n",
    "my_function()  # Calls the function, creating and printing local_variable\n",
    "\n",
    "#print(local_variable)  # This line would raise a NameError, as local_variable is out of scope\n",
    "#IndentationError: unexpected indent\n",
    "\n",
    "#2-> Global scope: The variable is intialized out side the function and the variable is accessed from any where in program during execution \n",
    "#To modify the global scope variable in a function we have to use gobal keyword before the variable name to modify \n",
    "variable=\"Samba\"\n",
    "def my_function():\n",
    "    global variable\n",
    "    variable = \"I am local variable but accessed from a grobal scope variable \"\n",
    "    print(variable)\n",
    "\n",
    "my_function()\n",
    "print(variable) #access in the end of program"
   ]
  },
  {
   "cell_type": "code",
   "execution_count": 32,
   "id": "6b4ebc5e-6791-444a-8fbb-b358e00ca355",
   "metadata": {},
   "outputs": [
    {
     "name": "stdout",
     "output_type": "stream",
     "text": [
      "['False', 'None', 'True', 'and', 'as', 'assert', 'async', 'await', 'break', 'class', 'continue', 'def', 'del', 'elif', 'else', 'except', 'finally', 'for', 'from', 'global', 'if', 'import', 'in', 'is', 'lambda', 'nonlocal', 'not', 'or', 'pass', 'raise', 'return', 'try', 'while', 'with', 'yield']\n"
     ]
    }
   ],
   "source": [
    "#Keywords in python: \n",
    "'''\n",
    "Keywords are also known as reserved word which have meaning and special purpose in language \n",
    "insimple keywords are predefined words in a programming language that will be used when there is required in that situation  \n",
    "'''\n",
    "import keyword #importing the keyword library to show case the reserved keywords\n",
    "print(keyword.kwlist)\n",
    "\"\"\"\n",
    "Note: If we use keyword as a variable then it throws an syntax error\n",
    "\n",
    "o/p:\n",
    "    ['False', 'None', 'True', 'and', 'as', 'assert', 'async', 'await', 'break', 'class', 'continue', 'def', 'del', 'elif', 'else', 'except', 'finally',\n",
    "    'for', 'from', 'global', 'if', 'import', 'in', 'is', 'lambda', 'nonlocal', 'not', 'or', 'pass', 'raise', 'return', 'try', 'while', 'with', 'yield']\n",
    "\"\"\"\n"
   ]
  },
  {
   "cell_type": "code",
   "execution_count": 34,
   "id": "17bf5ac8-2504-4d73-9095-62dfca0df322",
   "metadata": {},
   "outputs": [
    {
     "name": "stdin",
     "output_type": "stream",
     "text": [
      "Enter your name:  Samba\n"
     ]
    },
    {
     "name": "stdout",
     "output_type": "stream",
     "text": [
      "Samba\n"
     ]
    }
   ],
   "source": [
    "#Input & output format in python\n",
    "\"\"\"\n",
    "Input and output operations is fundamental to Python programming. With the print() function, we can display output in various formats, \n",
    "while the input() function enables interaction with users by gathering input during program execution.\n",
    "\n",
    "Note: Python's input() function is used to take user input. By default, it returns the user input in form of a string.\n",
    "->print() function allows us to display text, variables and expressions on the console.\n",
    "\"\"\"\n",
    "#1-> Taking input values from user by input() and displaying them by using print()\n",
    "\n",
    "name=input(\"Enter your name: \") #Taking the \"samba\" value from user\n",
    "print(name) #printing the tken value from the user\n",
    "\n",
    "#2-> printing multiple variables in single print \n",
    "\n",
    "# Single variable\n",
    "n = \"Samba\"\n",
    "print(n)\n",
    "\n",
    "# Multiple Variables\n",
    "s = \"siva\"\n",
    "age = 21\n",
    "city = \"AP\"\n",
    "print(s, age, city) # In this we can print multiple variables in a single print function by sepearing them with commas\n",
    "\n",
    "#3-> Taking mutiple input from user by using split() in single line\n",
    "'''\n",
    "We are taking multiple input from the user in a single line,\n",
    "splitting the values entered by the user into separate variables for each value using the split() method. \n",
    "'''\n",
    "# taking two inputs at a time\n",
    "x, y = input(\"Enter two values: \").split() \n",
    "print(\"Number of boys: \", x)\n",
    "print(\"Number of girls: \", y)\n",
    " \n",
    "# taking three inputs at a time\n",
    "x, y, z = input(\"Enter three values: \").split()\n",
    "print(\"Total number of students: \", x)\n",
    "print(\"Number of boys is : \", y)\n",
    "print(\"Number of girls is : \", z) \n",
    "\n",
    "#4-> Types of input in python\n",
    "    # In python the input function general takes the input in string format ,\n",
    "    # so we convert the string format to required format by just adding the reuired format keyword\n",
    "\n",
    "x=input(\"Enter value\") #string input\n",
    "y=int(input(\"Enter value\")) #Integer input\n",
    "z=float(input(\"Enter value\")) #float input\n",
    "print(x,y,z)\n",
    "\n",
    "#5-> Output Formatting\n",
    "#Output formatting in Python with various techniques including:\n",
    "    # The format() method,\n",
    "    # Manipulation of the sep and end parameters, \n",
    "    # f-strings \n",
    "    # The versatile % operator.\n",
    " # These methods enable precise control over how data is displayed, enhancing the readability and effectiveness of your Python programs.\n",
    "\n",
    "#Example 1: Using Format()\n",
    "amount = 150.75\n",
    "print(\"Amount: ${:.2f}\".format(amount))\n",
    " \n",
    "#Example 2: Using sep and end parameter\n",
    "\n",
    "# end Parameter with '@'\n",
    "print(\"Python\", end='@')\n",
    "print(\"Learner samba\")\n",
    "\n",
    "# Seprating with Comma\n",
    "print('T', 'S', 'R', sep='.')\n",
    "\n",
    "# for formatting a date\n",
    "print('12', '08', '2004', sep='-')\n",
    "\n",
    "# another example\n",
    "print('Samba', 'guntur', sep='@')\n",
    "\n",
    "#Example 3: Using f-string\n",
    "\n",
    "name = 'Samba'\n",
    "age = 21\n",
    "print(f\"Hello, My name is {name} and I'm {age} years old.\")\n",
    "\n",
    "# Example 4: Using % Operator\n",
    " # We can use '%' operator. % values are replaced with zero or more value of elements.\n",
    "'''\n",
    "%d –integer\n",
    "%f – float\n",
    "%s – string\n",
    "%x –hexadecimal\n",
    "%o – octal\n",
    "\n",
    "'''\n",
    "\n",
    "# Taking input from the user\n",
    "num = int(input(\"Enter a value: \"))\n",
    "num1 = float(input(\"Enter a value: \"))\n",
    "num2 = input(\"Enter a value: \")\n",
    "add = num + 5\n",
    "print(\"The sum is %d and name is  %s and marks are %f\" %add, %num2,%num1)"
   ]
  },
  {
   "cell_type": "code",
   "execution_count": null,
   "id": "3cc42aee-36f8-4085-947b-6dbed22cc0df",
   "metadata": {},
   "outputs": [],
   "source": []
  }
 ],
 "metadata": {
  "kernelspec": {
   "display_name": "Python 3 (ipykernel)",
   "language": "python",
   "name": "python3"
  },
  "language_info": {
   "codemirror_mode": {
    "name": "ipython",
    "version": 3
   },
   "file_extension": ".py",
   "mimetype": "text/x-python",
   "name": "python",
   "nbconvert_exporter": "python",
   "pygments_lexer": "ipython3",
   "version": "3.13.5"
  }
 },
 "nbformat": 4,
 "nbformat_minor": 5
}
